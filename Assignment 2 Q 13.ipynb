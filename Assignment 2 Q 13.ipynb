{
 "cells": [
  {
   "cell_type": "code",
   "execution_count": 1,
   "id": "a1d291a9",
   "metadata": {},
   "outputs": [
    {
     "data": {
      "image/png": "[encoded data removed]",
      "text/plain": [
       "<Figure size 432x288 with 1 Axes>"
      ]
     },
     "metadata": {
      "needs_background": "light"
     },
     "output_type": "display_data"
    }
   ],
   "source": [
    "import numpy as np\n",
    "import matplotlib.pyplot as plt\n",
    "\n",
    "def rk6(f, y0, t0, tf, n):\n",
    "    h = (tf - t0) / n\n",
    "    t = np.linspace(t0, tf, n+1)\n",
    "    y = np.zeros(n+1)\n",
    "    y[0] = y0\n",
    "    for i in range(n):\n",
    "        k1 = h * f(t[i], y[i])\n",
    "        k2 = h * f(t[i] + 1/3*h, y[i] + 1/3*k1)\n",
    "        k3 = h * f(t[i] + 1/3*h, y[i] + 1/6*k1 + 1/6*k2)\n",
    "        k4 = h * f(t[i] + 1/2*h, y[i] + 1/8*k1 + 3/8*k3)\n",
    "        k5 = h * f(t[i] + 2/3*h, y[i] + 1/2*k1 - 3/2*k3 + 2*k4)\n",
    "        k6 = h * f(t[i] + 1*h, y[i] - 3/7*k1 + 2/7*k3 + 12/7*k4 - 12/7*k5)\n",
    "        k7 = h * f(t[i] + 1*h, y[i] + 7/90*k1 + 32/90*k3 + 12/90*k4 + 32/90*k5 + 7/90*k6)\n",
    "        y[i+1] = y[i] + k7\n",
    "    return t, y\n",
    "\n",
    "def dy_dt(t, y):\n",
    "    return -2 * y + t**2\n",
    "\n",
    "y0 = 0.5\n",
    "t0 = 0\n",
    "tf = 10\n",
    "n = 1000\n",
    "\n",
    "t, y = rk6(dy_dt, y0, t0, tf, n)\n",
    "\n",
    "plt.plot(t, y)\n",
    "plt.title('Solution of dy/dt = -2y + t^2 using RK6')\n",
    "plt.xlabel('Time t')\n",
    "plt.ylabel('y(t)')\n",
    "plt.grid(True)\n",
    "plt.show()"
   ]
  },
  {
   "cell_type": "code",
   "execution_count": null,
   "id": "d003bbcc",
   "metadata": {},
   "outputs": [],
   "source": []
  }
 ],
 "metadata": {
  "kernelspec": {
   "display_name": "Python 3 (ipykernel)",
   "language": "python",
   "name": "python3"
  },
  "language_info": {
   "codemirror_mode": {
    "name": "ipython",
    "version": 3
   },
   "file_extension": ".py",
   "mimetype": "text/x-python",
   "name": "python",
   "nbconvert_exporter": "python",
   "pygments_lexer": "ipython3",
   "version": "3.9.7"
  }
 },
 "nbformat": 4,
 "nbformat_minor": 5
}
