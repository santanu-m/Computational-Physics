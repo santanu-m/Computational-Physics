{
 "cells": [
  {
   "cell_type": "code",
   "execution_count": 27,
   "id": "474da877",
   "metadata": {},
   "outputs": [],
   "source": [
    "import numpy as np\n",
    "\n",
    "true_solution = [7.859713071,0.422926408,-0.073592239,-0.540643016,0.010626163]\n",
    "matrix_A = [[0.2,0.1,1,1,0],[0.1,4,-1,1,-1],[1,-1,60,0,-2],[1,1,0,8,4],[0,-1,-2,4,700]]\n",
    "vector_b = [1,2,3,4,5]\n",
    "initial_guess = np.zeros(len(coefficients))\n",
    "\n",
    "#tolerace\n",
    "tolerance = 0.01\n",
    "#parameter\n",
    "omega = 1.25"
   ]
  },
  {
   "cell_type": "code",
   "execution_count": 28,
   "id": "f3aae35b",
   "metadata": {},
   "outputs": [
    {
     "name": "stdout",
     "output_type": "stream",
     "text": [
      "Solution via Jacobi: [ 7.86798447  0.4239069  -0.0731638  -0.5370925   0.01063184]\n",
      "Iterations needed: 39\n"
     ]
    }
   ],
   "source": [
    "def jacobi_solve(matrix_A, vector_b, err_tol, initial_guess, true_solution):\n",
    "    delta = 1\n",
    "    num_iters = 0\n",
    "    solution_vec = np.zeros(len(matrix_A))\n",
    "    while delta > err_tol:\n",
    "        for i in range(len(matrix_A)):\n",
    "            sigma = 0\n",
    "            for j in range(len(matrix_A)):\n",
    "                if i != j:\n",
    "                    sigma -= matrix_A[i][j] * initial_guess[j]\n",
    "            solution_vec[i] = (sigma + vector_b[i]) / matrix_A[i][i]\n",
    "        initial_guess = np.copy(solution_vec)\n",
    "        delta = np.linalg.norm(true_solution - solution_vec)\n",
    "        num_iters += 1\n",
    "    print(\"Solution via Jacobi:\", solution_vec)\n",
    "    print(\"Iterations needed:\", num_iters)\n",
    "\n",
    "# Example call to the function would be similar, just use the new function name and variables\n",
    "jacobi_solve(matrix_A, vector_b, tolerance, initial_guess, true_solution)\n"
   ]
  },
  {
   "cell_type": "code",
   "execution_count": 33,
   "id": "1bd9e23a",
   "metadata": {},
   "outputs": [
    {
     "name": "stdout",
     "output_type": "stream",
     "text": [
      "The solution obtained from Gauss-Seidel method is  [ 7.85091478  0.42280131 -0.07344797 -0.53952326  0.01062   ]\n",
      "Gauss-Seidel method required  18 iterations\n"
     ]
    }
   ],
   "source": [
    "def solve_gauss_seidel(A_matrix, b_vector, tolerance, initial_guess, original_solution):\n",
    "    error = 1\n",
    "    iterations = 0\n",
    "    x = np.zeros(len(A_matrix))\n",
    "    while (error > tolerance):\n",
    "        for i in range(len(A_matrix)):\n",
    "            sum_ = 0\n",
    "            for j in range(len(A_matrix)):\n",
    "                if (j < i):\n",
    "                    sum_ -= A_matrix[i][j] * x[j]\n",
    "                elif (j > i):\n",
    "                    sum_ -= A_matrix[i][j] * initial_guess[j]\n",
    "            x[i] = (1.0 / A_matrix[i][i]) * (sum_ + b_vector[i])\n",
    "        initial_guess = x\n",
    "        error = np.linalg.norm(original_solution - x)\n",
    "        iterations += 1\n",
    "    print(\"The solution obtained from Gauss-Seidel method is \", x)\n",
    "    print(\"Gauss-Seidel method required \", iterations, \"iterations\")\n",
    "\n",
    "solve_gauss_seidel(matrix_A, vector_b, tolerance, initial_guess, true_solution)"
   ]
  },
  {
   "cell_type": "code",
   "execution_count": 34,
   "id": "de844a45",
   "metadata": {},
   "outputs": [
    {
     "name": "stdout",
     "output_type": "stream",
     "text": [
      "The solution obtained from Conjugate Gradient Method is  [ 7.85971308  0.42292641 -0.07359224 -0.54064302  0.01062616]\n",
      "Conjugate Gradient Method required  5 iterations\n"
     ]
    }
   ],
   "source": [
    "import numpy as np\n",
    "\n",
    "def conjugate_gradient_method(A_matrix, B_vector, tolerance, initial_guess, original_solution, omega):\n",
    "    residual = B_vector - np.dot(A_matrix, initial_guess)\n",
    "    direction = residual\n",
    "    iterations = 0\n",
    "    difference = 1\n",
    "    while (difference > tolerance):\n",
    "        alpha = np.dot(residual, residual) / np.dot(np.dot(direction, A_matrix), direction)\n",
    "        solution = initial_guess + np.dot(alpha, direction)\n",
    "        new_residual = residual - np.dot(np.dot(alpha, A_matrix), direction)\n",
    "        difference = np.linalg.norm(solution - original_solution)\n",
    "        beta = np.dot(new_residual, new_residual) / np.dot(residual, residual)\n",
    "        direction = new_residual + np.dot(beta, direction)\n",
    "        residual = new_residual\n",
    "        iterations += 1\n",
    "        initial_guess = solution\n",
    "    print(\"The solution obtained from Conjugate Gradient Method is \", solution)\n",
    "    print(\"Conjugate Gradient Method required \", iterations, \"iterations\")\n",
    "\n",
    "conjugate_gradient_method(matrix_A, vector_b, 0.01, initial_guess, true_solution, omega)\n"
   ]
  },
  {
   "cell_type": "code",
   "execution_count": null,
   "id": "c8ada506",
   "metadata": {},
   "outputs": [],
   "source": []
  }
 ],
 "metadata": {
  "kernelspec": {
   "display_name": "Python 3 (ipykernel)",
   "language": "python",
   "name": "python3"
  },
  "language_info": {
   "codemirror_mode": {
    "name": "ipython",
    "version": 3
   },
   "file_extension": ".py",
   "mimetype": "text/x-python",
   "name": "python",
   "nbconvert_exporter": "python",
   "pygments_lexer": "ipython3",
   "version": "3.9.7"
  }
 },
 "nbformat": 4,
 "nbformat_minor": 5
}
