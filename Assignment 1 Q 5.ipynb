{
 "cells": [
  {
   "cell_type": "code",
   "execution_count": 50,
   "id": "ac2ef73d",
   "metadata": {},
   "outputs": [],
   "source": [
    "import numpy as np\n",
    "import matplotlib.pyplot as plt"
   ]
  },
  {
   "cell_type": "code",
   "execution_count": 51,
   "id": "af889ff6",
   "metadata": {},
   "outputs": [],
   "source": [
    "S4 = np.array([\n",
    "    [4, 1, 1, 0,1],\n",
    "    [-1,-3,1,1,0],\n",
    "    [2,1,5,-1,-1],\n",
    "    [-1,-1,-1,4,0],\n",
    "    [0,2,-1,1,4]\n",
    "])\n",
    "b4 = np.array([6,6,6,6,6])\n",
    "\n",
    "\n",
    "S3 = np.array([\n",
    "    [10, 5, 0, 0],\n",
    "    [5, 10, -4,0],\n",
    "    [0,-4, 8, -1],\n",
    "    [0,0,-1,5]\n",
    "])\n",
    "b3 = np.array([6, 25, -11,-11])\n",
    "\n",
    "\n",
    "S2 = np.array([\n",
    "    [10, -1, 0],\n",
    "    [-1, 10, -2],\n",
    "    [0, -2, 10]\n",
    "])\n",
    "b2 = np.array([9,7,6])\n",
    "\n",
    "\n",
    "S1 = np.array([\n",
    "    [3, -1, 1],\n",
    "    [3, 6, 2],\n",
    "    [3, 3, 7]\n",
    "])\n",
    "b1 = np.array([1, 0, 4])"
   ]
  },
  {
   "cell_type": "code",
   "execution_count": 52,
   "id": "166b0949",
   "metadata": {},
   "outputs": [],
   "source": [
    "def sor_example(A, b, omega, x0, iterations=2):\n",
    "    n = len(b) \n",
    "    x = x0.copy() \n",
    "    \n",
    "    for iteration in range(iterations):\n",
    "        for i in range(n):\n",
    "            sigma = 0\n",
    "            for j in range(n):\n",
    "                if j != i:\n",
    "                    sigma += A[i, j] * x[j]\n",
    "            x[i] = (1 - omega) * x[i] + (omega / A[i, i]) * (b[i] - sigma)\n",
    "        print(f'Iteration {iteration + 1}: x = {x}')\n",
    "    \n",
    "    return x"
   ]
  },
  {
   "cell_type": "code",
   "execution_count": 53,
   "id": "51001d2f",
   "metadata": {},
   "outputs": [
    {
     "name": "stdout",
     "output_type": "stream",
     "text": [
      "Iteration 1: x = [ 0.43333333 -0.28166667  0.65835714  0.          0.        ]\n",
      "Iteration 2: x = [-0.10401032 -0.13318139  0.67749966  0.          0.        ]\n"
     ]
    },
    {
     "data": {
      "text/plain": [
       "array([-0.10401032, -0.13318139,  0.67749966,  0.        ,  0.        ])"
      ]
     },
     "execution_count": 53,
     "metadata": {},
     "output_type": "execute_result"
    }
   ],
   "source": [
    "sor_example(S1, b1, 1.3, x0, iterations=2)"
   ]
  },
  {
   "cell_type": "code",
   "execution_count": 54,
   "id": "101e6a79",
   "metadata": {},
   "outputs": [
    {
     "name": "stdout",
     "output_type": "stream",
     "text": [
      "Iteration 1: x = [1.17     1.0621   1.056146 0.       0.      ]\n",
      "Iteration 2: x = [0.957073   0.99038745 0.72065694 0.         0.        ]\n"
     ]
    },
    {
     "data": {
      "text/plain": [
       "array([0.957073  , 0.99038745, 0.72065694, 0.        , 0.        ])"
      ]
     },
     "execution_count": 54,
     "metadata": {},
     "output_type": "execute_result"
    }
   ],
   "source": [
    "sor_example(S2, b2, 1.3, x0, iterations=2)"
   ]
  },
  {
   "cell_type": "code",
   "execution_count": 55,
   "id": "962ac91e",
   "metadata": {},
   "outputs": [
    {
     "name": "stdout",
     "output_type": "stream",
     "text": [
      "Iteration 1: x = [ 0.78      2.743    -0.00455  -2.861183  0.      ]\n",
      "Iteration 2: x = [-1.23695     3.2287515  -0.15238876 -2.04126618  0.        ]\n"
     ]
    },
    {
     "data": {
      "text/plain": [
       "array([-1.23695   ,  3.2287515 , -0.15238876, -2.04126618,  0.        ])"
      ]
     },
     "execution_count": 55,
     "metadata": {},
     "output_type": "execute_result"
    }
   ],
   "source": [
    "sor_example(S3, b3, 1.3, x0, iterations=2)"
   ]
  },
  {
   "cell_type": "code",
   "execution_count": 56,
   "id": "f5bb6651",
   "metadata": {},
   "outputs": [
    {
     "name": "stdout",
     "output_type": "stream",
     "text": [
      "Iteration 1: x = [ 1.875      -3.28125     1.3828125   1.86767578  3.77426147]\n",
      "Iteration 2: x = [ 0.82005501 -0.66700697  2.32150543  2.18137901  1.39210349]\n"
     ]
    },
    {
     "data": {
      "text/plain": [
       "array([ 0.82005501, -0.66700697,  2.32150543,  2.18137901,  1.39210349])"
      ]
     },
     "execution_count": 56,
     "metadata": {},
     "output_type": "execute_result"
    }
   ],
   "source": [
    "import numpy as np\n",
    "\n",
    "def func_relaxation(A, b, omega, x0, iterations=2):\n",
    "    n = len(b) \n",
    "    x = x0.copy()\n",
    "    \n",
    "    for iteration in range(iterations):\n",
    "        for i in range(n):\n",
    "            sum_before = sum(A[i, j] * x[j] for j in range(i))\n",
    "            sum_after = sum(A[i, j] * x0[j] for j in range(i + 1, n))\n",
    "            x[i] = (1 - omega) * x0[i] + (omega / A[i, i]) * (b[i] - sum_before - sum_after)\n",
    "        x0 = x.copy()\n",
    "        print(f'Iteration {iteration + 1}: x = {x}')\n",
    "    \n",
    "    return x\n",
    "\n",
    "A = np.array([\n",
    "    [4, 1, 1, 0, 1],\n",
    "    [-1, -3, 1, 1, 0],\n",
    "    [2, 1, 5, -1, -1],\n",
    "    [-1, -1, -1, 4, 0],\n",
    "    [0, 2, -1, 1, 4]\n",
    "], dtype=float)\n",
    "\n",
    "b = np.array([6, 6, 6, 6, 6], dtype=float)\n",
    "omega = 1.25 \n",
    "x0 = np.zeros(5) \n",
    "func_relaxation(A, b, omega, x0, iterations=2)\n",
    "\n"
   ]
  },
  {
   "cell_type": "code",
   "execution_count": null,
   "id": "14a04602",
   "metadata": {},
   "outputs": [],
   "source": []
  }
 ],
 "metadata": {
  "kernelspec": {
   "display_name": "Python 3 (ipykernel)",
   "language": "python",
   "name": "python3"
  },
  "language_info": {
   "codemirror_mode": {
    "name": "ipython",
    "version": 3
   },
   "file_extension": ".py",
   "mimetype": "text/x-python",
   "name": "python",
   "nbconvert_exporter": "python",
   "pygments_lexer": "ipython3",
   "version": "3.9.7"
  }
 },
 "nbformat": 4,
 "nbformat_minor": 5
}
