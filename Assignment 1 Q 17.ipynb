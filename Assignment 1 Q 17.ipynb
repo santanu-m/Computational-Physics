{
 "cells": [
  {
   "cell_type": "code",
   "execution_count": 9,
   "id": "a2460822",
   "metadata": {},
   "outputs": [
    {
     "name": "stdout",
     "output_type": "stream",
     "text": [
      "Q is   [[-0.92847669  0.37139068]\n",
      " [ 0.37139068  0.92847669]]\n",
      "R is   [[-5.38516481  4.82807879]\n",
      " [ 0.          6.68503217]]\n"
     ]
    }
   ],
   "source": [
    "import numpy as np\n",
    "import matplotlib.pyplot as plt\n",
    "#Given\n",
    "A = np.array([[5, -2], \n",
    "              [-2, 8]])\n",
    "\n",
    "#QR decomposition\n",
    "Q, R = np.linalg.qr(A)\n",
    "print (\"Q is  \",Q)\n",
    "print(\"R is  \",R)"
   ]
  },
  {
   "cell_type": "code",
   "execution_count": 11,
   "id": "ffbb7101",
   "metadata": {},
   "outputs": [
    {
     "name": "stdout",
     "output_type": "stream",
     "text": [
      "Eigenvalues from QR decomposition: [5. 8.]\n",
      "Eigenvalues from numpy.linalg.eigh: [4. 9.]\n"
     ]
    }
   ],
   "source": [
    "# Eigenvalue approximation\n",
    "iterations = 100\n",
    "for _ in range(iterations): \n",
    "    QR = np.dot(Q.T, A)  \n",
    "    A = np.dot(QR, Q) \n",
    "eigenvalues_QR = np.diag(A)  \n",
    "# Diagonal are the eigenvalues\n",
    "\n",
    "# Eigenvalues using numpy's eigh function\n",
    "eigenvalues_eigh, _ = np.linalg.eigh(A)\n",
    "\n",
    "# Print the results\n",
    "print(\"Eigenvalues from QR decomposition:\", eigenvalues_QR)\n",
    "print(\"Eigenvalues from numpy.linalg.eigh:\", eigenvalues_eigh)\n"
   ]
  },
  {
   "cell_type": "code",
   "execution_count": null,
   "id": "b98f4820",
   "metadata": {},
   "outputs": [],
   "source": []
  }
 ],
 "metadata": {
  "kernelspec": {
   "display_name": "Python 3 (ipykernel)",
   "language": "python",
   "name": "python3"
  },
  "language_info": {
   "codemirror_mode": {
    "name": "ipython",
    "version": 3
   },
   "file_extension": ".py",
   "mimetype": "text/x-python",
   "name": "python",
   "nbconvert_exporter": "python",
   "pygments_lexer": "ipython3",
   "version": "3.9.7"
  }
 },
 "nbformat": 4,
 "nbformat_minor": 5
}
