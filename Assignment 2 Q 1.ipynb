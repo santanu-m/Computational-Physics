{
 "cells": [
  {
   "cell_type": "code",
   "execution_count": 2,
   "id": "2f4ef8b8",
   "metadata": {},
   "outputs": [
    {
     "name": "stdout",
     "output_type": "stream",
     "text": [
      "Solution to Problem 1 at x = 1: 0.0004916371449692996\n",
      "Solution to Problem 2 at x = 1: 1.0004999924067022\n"
     ]
    }
   ],
   "source": [
    "import math\n",
    "\n",
    "def backward_euler(f, y0, x0, xf, step_size):\n",
    "    x = x0\n",
    "    y = y0\n",
    "    while x < xf:\n",
    "        y_next = y\n",
    "        for _ in range(10):\n",
    "            y_next = y + step_size * f(x + step_size, y_next)\n",
    "        y = y_next\n",
    "        x += step_size\n",
    "    return y\n",
    "\n",
    "def problem1(x, y):\n",
    "    return -9 * y\n",
    "\n",
    "def problem2(x, y):\n",
    "    return -20 * (y - x**2) + 2 * x\n",
    "\n",
    "initial_y1 = math.e\n",
    "initial_y2 = 1/3\n",
    "start_x = 0\n",
    "end_x = 1\n",
    "step_size = 0.01\n",
    "\n",
    "result1 = backward_euler(problem1, initial_y1, start_x, end_x, step_size)\n",
    "result2 = backward_euler(problem2, initial_y2, start_x, end_x, step_size)\n",
    "\n",
    "print(\"Solution to Problem 1 at x = 1:\", result1)\n",
    "print(\"Solution to Problem 2 at x = 1:\", result2)\n"
   ]
  },
  {
   "cell_type": "code",
   "execution_count": null,
   "id": "076fccef",
   "metadata": {},
   "outputs": [],
   "source": []
  }
 ],
 "metadata": {
  "kernelspec": {
   "display_name": "Python 3 (ipykernel)",
   "language": "python",
   "name": "python3"
  },
  "language_info": {
   "codemirror_mode": {
    "name": "ipython",
    "version": 3
   },
   "file_extension": ".py",
   "mimetype": "text/x-python",
   "name": "python",
   "nbconvert_exporter": "python",
   "pygments_lexer": "ipython3",
   "version": "3.9.7"
  }
 },
 "nbformat": 4,
 "nbformat_minor": 5
}
