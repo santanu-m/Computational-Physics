{
 "cells": [
  {
   "cell_type": "code",
   "execution_count": 23,
   "id": "8677ff35",
   "metadata": {},
   "outputs": [],
   "source": [
    "import numpy as np\n",
    "import matplotlib.pyplot as plt"
   ]
  },
  {
   "cell_type": "code",
   "execution_count": 24,
   "id": "caf5e2bd",
   "metadata": {},
   "outputs": [],
   "source": [
    "# Given Matrices\n",
    "A1 = np.array([[2, 1], [1, 0]])\n",
    "A2 = np.array([[2, 1], [1, 0],[0,1]])\n",
    "A3 = np.array([[2, 1], [-1, 1],[1,1],[2,-1]])\n",
    "A4 = np.array([[1, 1,0], [-1, 0,1],[0,1,-1],[1,1,-1]])\n",
    "A5 = np.array([[1, 1,0], [-1, 0,1],[0,1,-1],[1,1,-1]])\n",
    "A6 = np.array([[0, 1,1], [0, 1,0],[1,1,0],[0,1,0],[1,0,1]])"
   ]
  },
  {
   "cell_type": "code",
   "execution_count": 32,
   "id": "a47dabd7",
   "metadata": {},
   "outputs": [],
   "source": [
    "def func_m(A):\n",
    "    start_time = time.time()\n",
    "\n",
    "    #SVD\n",
    "    U, S, VT = np.linalg.svd(A)\n",
    "\n",
    "    end_time = time.time()\n",
    "\n",
    "    time_taken = end_time - start_time\n",
    "    print(f\"Time taken for SVD: {time_taken:.6f} seconds\")\n",
    "\n",
    "    print(\"U (left singular vector):\\n\", U)\n",
    "    print(\"\\nSingular values:\\n\", S)\n",
    "    print(\"\\n VT (right singular vector):\\n\", VT)\n",
    "\n",
    "    # Reconstructing the original matrix from its SVD\n",
    "    S_diag = np.zeros((U.shape[1], VT.shape[0]))\n",
    "    np.fill_diagonal(S_diag, S)\n",
    "    A_reconstructed = U @ S_diag @ VT\n",
    "\n",
    "    # the original and reconstructed matrix\n",
    "    # for demonstrating that the decomposition is correct\n",
    "    print(\"\\nOriginal matrix A:\\n\", A)\n",
    "    print(\"\\nReconstructed matrix from SVD:\\n\", A_reconstructed)"
   ]
  },
  {
   "cell_type": "code",
   "execution_count": 33,
   "id": "d0630173",
   "metadata": {},
   "outputs": [
    {
     "name": "stdout",
     "output_type": "stream",
     "text": [
      "Time taken for SVD: 0.001043 seconds\n",
      "U (left singular vector):\n",
      " [[-0.92387953 -0.38268343]\n",
      " [-0.38268343  0.92387953]]\n",
      "\n",
      "Singular values:\n",
      " [2.41421356 0.41421356]\n",
      "\n",
      " VT (right singular vector):\n",
      " [[-0.92387953 -0.38268343]\n",
      " [ 0.38268343 -0.92387953]]\n",
      "\n",
      "Original matrix A:\n",
      " [[2 1]\n",
      " [1 0]]\n",
      "\n",
      "Reconstructed matrix from SVD:\n",
      " [[ 2.00000000e+00  1.00000000e+00]\n",
      " [ 1.00000000e+00 -5.55111512e-17]]\n"
     ]
    }
   ],
   "source": [
    "func_m(A)"
   ]
  },
  {
   "cell_type": "code",
   "execution_count": 34,
   "id": "4122c3a9",
   "metadata": {},
   "outputs": [
    {
     "name": "stdout",
     "output_type": "stream",
     "text": [
      "Time taken for SVD: 0.000000 seconds\n",
      "U (left singular vector):\n",
      " [[-9.12870929e-01  5.55111512e-17 -4.08248290e-01]\n",
      " [-3.65148372e-01 -4.47213595e-01  8.16496581e-01]\n",
      " [-1.82574186e-01  8.94427191e-01  4.08248290e-01]]\n",
      "\n",
      "Singular values:\n",
      " [2.44948974 1.        ]\n",
      "\n",
      " VT (right singular vector):\n",
      " [[-0.89442719 -0.4472136 ]\n",
      " [-0.4472136   0.89442719]]\n",
      "\n",
      "Original matrix A:\n",
      " [[2 1]\n",
      " [1 0]\n",
      " [0 1]]\n",
      "\n",
      "Reconstructed matrix from SVD:\n",
      " [[ 2.00000000e+00  1.00000000e+00]\n",
      " [ 1.00000000e+00 -5.55111512e-17]\n",
      " [-1.11022302e-16  1.00000000e+00]]\n"
     ]
    }
   ],
   "source": [
    "func_m(A2)"
   ]
  },
  {
   "cell_type": "code",
   "execution_count": 35,
   "id": "7e7b5e1c",
   "metadata": {},
   "outputs": [
    {
     "name": "stdout",
     "output_type": "stream",
     "text": [
      "Time taken for SVD: 0.000000 seconds\n",
      "U (left singular vector):\n",
      " [[-0.63245553 -0.5        -0.52229321 -0.27786652]\n",
      " [ 0.31622777 -0.5        -0.30196857  0.74753928]\n",
      " [-0.31622777 -0.5         0.79704714  0.12130893]\n",
      " [-0.63245553  0.5        -0.02721464  0.59098169]]\n",
      "\n",
      "Singular values:\n",
      " [3.16227766 2.        ]\n",
      "\n",
      " VT (right singular vector):\n",
      " [[-1. -0.]\n",
      " [-0. -1.]]\n",
      "\n",
      "Original matrix A:\n",
      " [[ 2  1]\n",
      " [-1  1]\n",
      " [ 1  1]\n",
      " [ 2 -1]]\n",
      "\n",
      "Reconstructed matrix from SVD:\n",
      " [[ 2.  1.]\n",
      " [-1.  1.]\n",
      " [ 1.  1.]\n",
      " [ 2. -1.]]\n"
     ]
    }
   ],
   "source": [
    "func_m(A3)"
   ]
  },
  {
   "cell_type": "code",
   "execution_count": 36,
   "id": "b856dd36",
   "metadata": {},
   "outputs": [
    {
     "name": "stdout",
     "output_type": "stream",
     "text": [
      "Time taken for SVD: 0.001002 seconds\n",
      "U (left singular vector):\n",
      " [[-4.36435780e-01 -4.08248290e-01  7.07106781e-01 -3.77964473e-01]\n",
      " [ 4.36435780e-01  4.08248290e-01  7.07106781e-01  3.77964473e-01]\n",
      " [-4.36435780e-01  8.16496581e-01 -1.66533454e-16 -3.77964473e-01]\n",
      " [-6.54653671e-01 -1.38777878e-17 -8.32667268e-17  7.55928946e-01]]\n",
      "\n",
      "Singular values:\n",
      " [2.64575131 1.         1.        ]\n",
      "\n",
      " VT (right singular vector):\n",
      " [[-0.57735027 -0.57735027  0.57735027]\n",
      " [-0.81649658  0.40824829 -0.40824829]\n",
      " [ 0.          0.70710678  0.70710678]]\n",
      "\n",
      "Original matrix A:\n",
      " [[ 1  1  0]\n",
      " [-1  0  1]\n",
      " [ 0  1 -1]\n",
      " [ 1  1 -1]]\n",
      "\n",
      "Reconstructed matrix from SVD:\n",
      " [[ 1.00000000e+00  1.00000000e+00  1.11022302e-16]\n",
      " [-1.00000000e+00 -2.77555756e-16  1.00000000e+00]\n",
      " [ 1.11022302e-16  1.00000000e+00 -1.00000000e+00]\n",
      " [ 1.00000000e+00  1.00000000e+00 -1.00000000e+00]]\n"
     ]
    }
   ],
   "source": [
    "func_m(A4)"
   ]
  },
  {
   "cell_type": "code",
   "execution_count": 37,
   "id": "8a1ce18d",
   "metadata": {},
   "outputs": [
    {
     "name": "stdout",
     "output_type": "stream",
     "text": [
      "Time taken for SVD: 0.000000 seconds\n",
      "U (left singular vector):\n",
      " [[-4.36435780e-01 -4.08248290e-01  7.07106781e-01 -3.77964473e-01]\n",
      " [ 4.36435780e-01  4.08248290e-01  7.07106781e-01  3.77964473e-01]\n",
      " [-4.36435780e-01  8.16496581e-01 -1.66533454e-16 -3.77964473e-01]\n",
      " [-6.54653671e-01 -1.38777878e-17 -8.32667268e-17  7.55928946e-01]]\n",
      "\n",
      "Singular values:\n",
      " [2.64575131 1.         1.        ]\n",
      "\n",
      " VT (right singular vector):\n",
      " [[-0.57735027 -0.57735027  0.57735027]\n",
      " [-0.81649658  0.40824829 -0.40824829]\n",
      " [ 0.          0.70710678  0.70710678]]\n",
      "\n",
      "Original matrix A:\n",
      " [[ 1  1  0]\n",
      " [-1  0  1]\n",
      " [ 0  1 -1]\n",
      " [ 1  1 -1]]\n",
      "\n",
      "Reconstructed matrix from SVD:\n",
      " [[ 1.00000000e+00  1.00000000e+00  1.11022302e-16]\n",
      " [-1.00000000e+00 -2.77555756e-16  1.00000000e+00]\n",
      " [ 1.11022302e-16  1.00000000e+00 -1.00000000e+00]\n",
      " [ 1.00000000e+00  1.00000000e+00 -1.00000000e+00]]\n"
     ]
    }
   ],
   "source": [
    "func_m(A5)"
   ]
  },
  {
   "cell_type": "code",
   "execution_count": 38,
   "id": "dbf82176",
   "metadata": {},
   "outputs": [
    {
     "name": "stdout",
     "output_type": "stream",
     "text": [
      "Time taken for SVD: 0.000000 seconds\n",
      "U (left singular vector):\n",
      " [[-5.47722558e-01 -2.77555756e-16 -7.07106781e-01 -1.32058463e-01\n",
      "  -4.27271064e-01]\n",
      " [-3.65148372e-01 -4.08248290e-01  1.52655666e-16 -5.43516408e-01\n",
      "   6.36073827e-01]\n",
      " [-5.47722558e-01  1.38777878e-16  7.07106781e-01 -1.32058463e-01\n",
      "  -4.27271064e-01]\n",
      " [-3.65148372e-01 -4.08248290e-01  1.66533454e-16  8.07633333e-01\n",
      "   2.18468301e-01]\n",
      " [-3.65148372e-01  8.16496581e-01 -2.22044605e-16  1.32058463e-01\n",
      "   4.27271064e-01]]\n",
      "\n",
      "Singular values:\n",
      " [2.23606798 1.41421356 1.        ]\n",
      "\n",
      " VT (right singular vector):\n",
      " [[-4.08248290e-01 -8.16496581e-01 -4.08248290e-01]\n",
      " [ 5.77350269e-01 -5.77350269e-01  5.77350269e-01]\n",
      " [ 7.07106781e-01  3.88578059e-16 -7.07106781e-01]]\n",
      "\n",
      "Original matrix A:\n",
      " [[0 1 1]\n",
      " [0 1 0]\n",
      " [1 1 0]\n",
      " [0 1 0]\n",
      " [1 0 1]]\n",
      "\n",
      "Reconstructed matrix from SVD:\n",
      " [[-5.55111512e-17  1.00000000e+00  1.00000000e+00]\n",
      " [-3.07844593e-18  1.00000000e+00 -5.24327053e-17]\n",
      " [ 1.00000000e+00  1.00000000e+00 -3.33066907e-16]\n",
      " [ 6.73463194e-18  1.00000000e+00 -6.22457832e-17]\n",
      " [ 1.00000000e+00 -8.62816615e-32  1.00000000e+00]]\n"
     ]
    }
   ],
   "source": [
    "func_m(A6)"
   ]
  },
  {
   "cell_type": "code",
   "execution_count": null,
   "id": "02965673",
   "metadata": {},
   "outputs": [],
   "source": [
    "#Thus we demonstrated that the decomposition is correct"
   ]
  }
 ],
 "metadata": {
  "kernelspec": {
   "display_name": "Python 3 (ipykernel)",
   "language": "python",
   "name": "python3"
  },
  "language_info": {
   "codemirror_mode": {
    "name": "ipython",
    "version": 3
   },
   "file_extension": ".py",
   "mimetype": "text/x-python",
   "name": "python",
   "nbconvert_exporter": "python",
   "pygments_lexer": "ipython3",
   "version": "3.9.7"
  }
 },
 "nbformat": 4,
 "nbformat_minor": 5
}
