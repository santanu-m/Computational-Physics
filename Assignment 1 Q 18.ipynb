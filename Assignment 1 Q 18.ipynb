{
 "cells": [
  {
   "cell_type": "code",
   "execution_count": 5,
   "id": "ea910fed",
   "metadata": {},
   "outputs": [
    {
     "name": "stdout",
     "output_type": "stream",
     "text": [
      "Convergence after 7 iterations.\n",
      "Dominant eigenvalue: 3.4071120142741216\n",
      "Corresponding eigenvector: [ 0.44221042 -0.70481293  0.55469692]\n"
     ]
    }
   ],
   "source": [
    "import numpy as np\n",
    "import matplotlib.pyplot as plt\n",
    "\n",
    "#Given\n",
    "A = np.array([[2, -1, 0], [-1, 2, -1], [0, -1, 2]])\n",
    "\n",
    "# Choosing a random initial vector x with a norm of 1\n",
    "x = np.random.rand(3)  \n",
    "x /= np.linalg.norm(x) \n",
    "\n",
    "# Setting up the tolerance and initialize variables\n",
    "tolerance = 0.01  # 1 percent tolerance\n",
    "previous_eigenvalue = 0  # Initial guess\n",
    "max_iterations = 1000  # To prevent overloopping\n",
    "\n",
    "# Power Method algorithm\n",
    "for iteration in range(max_iterations):\n",
    "    Ax = np.dot(A, x) \n",
    "    new_eigenvalue = np.linalg.norm(Ax)  \n",
    "    x_new = Ax / new_eigenvalue\n",
    "    \n",
    "    # Convergence test\n",
    "    if np.abs(new_eigenvalue - previous_eigenvalue) / new_eigenvalue < tolerance:\n",
    "        print(f\"Convergence after {iteration + 1} iterations.\")\n",
    "        break\n",
    "    # Updation\n",
    "    x = x_new\n",
    "    previous_eigenvalue = new_eigenvalue\n",
    "\n",
    "#eigenvalue and its corresponding eigenvector\n",
    "print(\"Dominant eigenvalue:\", new_eigenvalue)\n",
    "print(\"Corresponding eigenvector:\", x)\n"
   ]
  },
  {
   "cell_type": "code",
   "execution_count": null,
   "id": "0142f877",
   "metadata": {},
   "outputs": [],
   "source": []
  }
 ],
 "metadata": {
  "kernelspec": {
   "display_name": "Python 3 (ipykernel)",
   "language": "python",
   "name": "python3"
  },
  "language_info": {
   "codemirror_mode": {
    "name": "ipython",
    "version": 3
   },
   "file_extension": ".py",
   "mimetype": "text/x-python",
   "name": "python",
   "nbconvert_exporter": "python",
   "pygments_lexer": "ipython3",
   "version": "3.9.7"
  }
 },
 "nbformat": 4,
 "nbformat_minor": 5
}
