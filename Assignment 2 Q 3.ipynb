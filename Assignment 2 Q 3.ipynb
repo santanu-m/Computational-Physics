{
 "cells": [
  {
   "cell_type": "code",
   "execution_count": 3,
   "id": "e4432e7f",
   "metadata": {},
   "outputs": [
    {
     "name": "stdout",
     "output_type": "stream",
     "text": [
      "x = 0.00, y = 0.000000, y' = 0.000000\n",
      "x = 0.10, y = 0.000009, y' = 0.000364\n",
      "x = 0.20, y = 0.000154, y' = 0.003179\n",
      "x = 0.30, y = 0.000834, y' = 0.011719\n",
      "x = 0.40, y = 0.002832, y' = 0.030353\n",
      "x = 0.50, y = 0.007430, y' = 0.064798\n",
      "x = 0.60, y = 0.016561, y' = 0.122424\n",
      "x = 0.70, y = 0.032996, y' = 0.212612\n",
      "x = 0.80, y = 0.060559, y' = 0.347190\n",
      "x = 0.90, y = 0.104401, y' = 0.540936\n",
      "x = 1.00, y = 0.171322, y' = 0.812180\n"
     ]
    }
   ],
   "source": [
    "import math\n",
    "\n",
    "def rk4_system(dy_dx, dv_dx, x0, y0, v0, xf, h):\n",
    "    x, y, v = x0, y0, v0\n",
    "    results = []\n",
    "    while x <= xf:\n",
    "        results.append((x, y, v))\n",
    "        k1_y = h * dy_dx(x, y, v)\n",
    "        k1_v = h * dv_dx(x, y, v)\n",
    "        k2_y = h * dy_dx(x + 0.5*h, y + 0.5*k1_y, v + 0.5*k1_v)\n",
    "        k2_v = h * dv_dx(x + 0.5*h, y + 0.5*k1_y, v + 0.5*k1_v)\n",
    "        k3_y = h * dy_dx(x + 0.5*h, y + 0.5*k2_y, v + 0.5*k2_v)\n",
    "        k3_v = h * dv_dx(x + 0.5*h, y + 0.5*k2_y, v + 0.5*k2_v)\n",
    "        k4_y = h * dy_dx(x + h, y + k3_y, v + k3_v)\n",
    "        k4_v = h * dv_dx(x + h, y + k3_y, v + k3_v)\n",
    "        y += (k1_y + 2*k2_y + 2*k3_y + k4_y) / 6\n",
    "        v += (k1_v + 2*k2_v + 2*k3_v + k4_v) / 6\n",
    "        x += h\n",
    "    return results\n",
    "\n",
    "def dy_dx(x, y, v):\n",
    "    return v\n",
    "\n",
    "def dv_dx(x, y, v):\n",
    "    return 2*v - y + x*math.exp(x) - x\n",
    "\n",
    "x0, y0, v0, xf, h = 0, 0, 0, 1, 0.1\n",
    "\n",
    "results = rk4_system(dy_dx, dv_dx, x0, y0, v0, xf, h)\n",
    "\n",
    "for x, y, v in results:\n",
    "    print(f\"x = {x:.2f}, y = {y:.6f}, y' = {v:.6f}\")\n"
   ]
  },
  {
   "cell_type": "code",
   "execution_count": null,
   "id": "486e1056",
   "metadata": {},
   "outputs": [],
   "source": []
  }
 ],
 "metadata": {
  "kernelspec": {
   "display_name": "Python 3 (ipykernel)",
   "language": "python",
   "name": "python3"
  },
  "language_info": {
   "codemirror_mode": {
    "name": "ipython",
    "version": 3
   },
   "file_extension": ".py",
   "mimetype": "text/x-python",
   "name": "python",
   "nbconvert_exporter": "python",
   "pygments_lexer": "ipython3",
   "version": "3.9.7"
  }
 },
 "nbformat": 4,
 "nbformat_minor": 5
}
