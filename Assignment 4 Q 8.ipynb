{
 "cells": [
  {
   "cell_type": "code",
   "execution_count": 1,
   "id": "d59a8f23",
   "metadata": {},
   "outputs": [
    {
     "name": "stdout",
     "output_type": "stream",
     "text": [
      "Estimated area of unit circle: 3.14168\n"
     ]
    }
   ],
   "source": [
    "import numpy as np\n",
    "\n",
    "def monte_carlo_unit_circle_area(n_points):\n",
    "    count_inside_circle = 0\n",
    "    \n",
    "    for _ in range(n_points):\n",
    "        x, y = np.random.uniform(-1, 1), np.random.uniform(-1, 1)\n",
    "        if x**2 + y**2 <= 1:\n",
    "            count_inside_circle += 1\n",
    "    \n",
    "    area_estimate = (count_inside_circle / n_points) * 4\n",
    "    return area_estimate\n",
    "\n",
    "n_points = 100000\n",
    "area_estimate = monte_carlo_unit_circle_area(n_points)\n",
    "print(f\"Estimated area of unit circle: {area_estimate}\")"
   ]
  },
  {
   "cell_type": "code",
   "execution_count": 2,
   "id": "fb2e6142",
   "metadata": {},
   "outputs": [
    {
     "name": "stdout",
     "output_type": "stream",
     "text": [
      "Estimated volume of 10-dimensional unit sphere: 2.542592\n"
     ]
    }
   ],
   "source": [
    "def monte_carlo_unit_sphere_volume(n_points, dimensions=10):\n",
    "    count_inside_sphere = 0\n",
    "    \n",
    "    for _ in range(n_points):\n",
    "        point = np.random.uniform(-1, 1, dimensions)\n",
    "        if np.sum(point**2) <= 1:\n",
    "            count_inside_sphere += 1\n",
    "    \n",
    "    volume_estimate = (count_inside_sphere / n_points) * 2**dimensions\n",
    "    return volume_estimate\n",
    "\n",
    "n_points = 1000000\n",
    "volume_estimate = monte_carlo_unit_sphere_volume(n_points)\n",
    "print(f\"Estimated volume of 10-dimensional unit sphere: {volume_estimate}\")"
   ]
  },
  {
   "cell_type": "code",
   "execution_count": null,
   "id": "6f853c9f",
   "metadata": {},
   "outputs": [],
   "source": []
  }
 ],
 "metadata": {
  "kernelspec": {
   "display_name": "Python 3 (ipykernel)",
   "language": "python",
   "name": "python3"
  },
  "language_info": {
   "codemirror_mode": {
    "name": "ipython",
    "version": 3
   },
   "file_extension": ".py",
   "mimetype": "text/x-python",
   "name": "python",
   "nbconvert_exporter": "python",
   "pygments_lexer": "ipython3",
   "version": "3.9.7"
  }
 },
 "nbformat": 4,
 "nbformat_minor": 5
}
