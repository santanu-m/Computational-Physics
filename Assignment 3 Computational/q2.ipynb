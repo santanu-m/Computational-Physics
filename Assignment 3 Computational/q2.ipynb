{
 "cells": [
  {
   "cell_type": "code",
   "execution_count": 5,
   "metadata": {},
   "outputs": [
    {
     "name": "stdout",
     "output_type": "stream",
     "text": [
      "             0             1\n",
      "0      3.14134 -5.425350e-16\n",
      "1     -3.14185 -9.869420e-04\n",
      "2      3.14134  1.973560e-03\n",
      "3     -3.14185 -2.960820e-03\n",
      "4      3.14134  3.947130e-03\n",
      "...        ...           ...\n",
      "9996  -3.14184  4.934710e-03\n",
      "9997   3.14134 -3.947130e-03\n",
      "9998  -3.14185  2.960820e-03\n",
      "9999   3.14134 -1.973560e-03\n",
      "10000 -3.14185  9.869420e-04\n",
      "\n",
      "[10001 rows x 2 columns]\n"
     ]
    }
   ],
   "source": [
    "import numpy as np\n",
    "import pandas as pd\n",
    "import matplotlib.pyplot as plt\n",
    "dataframe = pd.read_csv('q2_data.csv',sep=\",\",header=None)\n",
    "print(dataframe)"
   ]
  },
  {
   "cell_type": "code",
   "execution_count": 6,
   "metadata": {},
   "outputs": [
    {
     "ename": "NameError",
     "evalue": "name 'factor' is not defined",
     "output_type": "error",
     "traceback": [
      "\u001b[0;31m---------------------------------------------------------------------------\u001b[0m",
      "\u001b[0;31mNameError\u001b[0m                                 Traceback (most recent call last)",
      "Cell \u001b[0;32mIn[6], line 3\u001b[0m\n\u001b[1;32m      1\u001b[0m data_array \u001b[38;5;241m=\u001b[39m dataframe\u001b[38;5;241m.\u001b[39mto_numpy()\n\u001b[1;32m      2\u001b[0m ft_C \u001b[38;5;241m=\u001b[39m data_array[:,\u001b[38;5;241m0\u001b[39m]\u001b[38;5;241m+\u001b[39m\u001b[38;5;241m1\u001b[39mj\u001b[38;5;241m*\u001b[39mdata_array[:,\u001b[38;5;241m1\u001b[39m]\n\u001b[0;32m----> 3\u001b[0m ft_C \u001b[38;5;241m=\u001b[39m \u001b[43mfactor\u001b[49m\u001b[38;5;241m*\u001b[39mnp\u001b[38;5;241m.\u001b[39mfft\u001b[38;5;241m.\u001b[39mfftshift(ft_C)\u001b[38;5;241m/\u001b[39mnp\u001b[38;5;241m.\u001b[39msqrt(n)\n",
      "\u001b[0;31mNameError\u001b[0m: name 'factor' is not defined"
     ]
    }
   ],
   "source": [
    "data_array = dataframe.to_numpy()\n",
    "ft_C = data_array[:,0]+1j*data_array[:,1]\n",
    "ft_C = factor*np.fft.fftshift(ft_C)/np.sqrt(n)"
   ]
  },
  {
   "cell_type": "code",
   "execution_count": 7,
   "metadata": {},
   "outputs": [
    {
     "ename": "NameError",
     "evalue": "name 'plt' is not defined",
     "output_type": "error",
     "traceback": [
      "\u001b[0;31m---------------------------------------------------------------------------\u001b[0m",
      "\u001b[0;31mNameError\u001b[0m                                 Traceback (most recent call last)",
      "Cell \u001b[0;32mIn[7], line 1\u001b[0m\n\u001b[0;32m----> 1\u001b[0m \u001b[43mplt\u001b[49m\u001b[38;5;241m.\u001b[39mplot(k,np\u001b[38;5;241m.\u001b[39mreal(ft_C))\n",
      "\u001b[0;31mNameError\u001b[0m: name 'plt' is not defined"
     ]
    }
   ],
   "source": [
    "plt.plot(k,np.real(ft_C))"
   ]
  },
  {
   "cell_type": "code",
   "execution_count": null,
   "metadata": {},
   "outputs": [],
   "source": []
  }
 ],
 "metadata": {
  "kernelspec": {
   "display_name": "Python 3",
   "language": "python",
   "name": "python3"
  },
  "language_info": {
   "codemirror_mode": {
    "name": "ipython",
    "version": 3
   },
   "file_extension": ".py",
   "mimetype": "text/x-python",
   "name": "python",
   "nbconvert_exporter": "python",
   "pygments_lexer": "ipython3",
   "version": "3.10.13"
  }
 },
 "nbformat": 4,
 "nbformat_minor": 2
}
