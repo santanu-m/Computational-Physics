{
 "cells": [
  {
   "cell_type": "code",
   "execution_count": 5,
   "id": "9ad6a32c",
   "metadata": {},
   "outputs": [
    {
     "data": {
      "image/png": "[encoded data removed]",
      "text/plain": [
       "<Figure size 432x288 with 1 Axes>"
      ]
     },
     "metadata": {
      "needs_background": "light"
     },
     "output_type": "display_data"
    },
    {
     "name": "stdout",
     "output_type": "stream",
     "text": [
      "Estimated x at t = 10: 2.046212763560672\n"
     ]
    }
   ],
   "source": [
    "import numpy as np\n",
    "import matplotlib.pyplot as plt\n",
    "\n",
    "def rk4(f, x0, t0, tf, n):\n",
    "    dt = (tf - t0) / n\n",
    "    t = np.linspace(t0, tf, n+1)\n",
    "    x = np.zeros(n+1)\n",
    "    x[0] = x0\n",
    "    \n",
    "    for i in range(n):\n",
    "        k1 = dt * f(t[i], x[i])\n",
    "        k2 = dt * f(t[i] + dt/2, x[i] + k1/2)\n",
    "        k3 = dt * f(t[i] + dt/2, x[i] + k2/2)\n",
    "        k4 = dt * f(t[i] + dt, x[i] + k3)\n",
    "        x[i+1] = x[i] + (k1 + 2*k2 + 2*k3 + k4) / 6\n",
    "    \n",
    "    return t, x\n",
    "\n",
    "def dx_dt(t, x):\n",
    "    return 1 / (x**2 + t**2)\n",
    "\n",
    "x0 = 1\n",
    "t0 = 0\n",
    "tf = 10\n",
    "n = 1000\n",
    "\n",
    "t_values, x_values = rk4(dx_dt, x0, t0, tf, n)\n",
    "\n",
    "plt.plot(t_values, x_values)\n",
    "plt.title(\"Solution of dx/dt = 1/(x^2 + t^2)\")\n",
    "plt.xlabel(\"Time t\")\n",
    "plt.ylabel(\"x(t)\")\n",
    "plt.grid(True)\n",
    "plt.show()\n",
    "\n",
    "print(\"Estimated x at t = 10:\", x_values[-1])"
   ]
  },
  {
   "cell_type": "code",
   "execution_count": 10,
   "id": "4307348a",
   "metadata": {},
   "outputs": [
    {
     "name": "stdout",
     "output_type": "stream",
     "text": [
      "Estimated value of x at t = 3500000.0: 17.698136384431663\n"
     ]
    }
   ],
   "source": [
    "#TIME for 3.5e6\n",
    "\n",
    "def rk4_step(f, t, x, h):\n",
    "    k1 = h * f(t, x)\n",
    "    k2 = h * f(t + 0.5 * h, x + 0.5 * k1)\n",
    "    k3 = h * f(t + 0.5 * h, x + 0.5 * k2)\n",
    "    k4 = h * f(t + h, x + k3)\n",
    "    return x + (k1 + 2*k2 + 2*k3 + k4) / 6\n",
    "\n",
    "def solve_ivp_rk4(f, x0, t0, tf, h):\n",
    "    t = t0\n",
    "    x = x0\n",
    "    while t < tf:\n",
    "        if t + h > tf:\n",
    "            h = tf - t  # Adjust the last step to reach exactly tf\n",
    "        x = rk4_step(f, t, x, h)\n",
    "        t += h\n",
    "    return x\n",
    "\n",
    "tf = 3.5e6\n",
    "h = 100  # Large step size due to very large domain\n",
    "\n",
    "# Solve the IVP using the RK4 method\n",
    "x_final = solve_ivp_rk4(dx_dt, x0, t0, tf, h)\n",
    "\n",
    "print(f\"Estimated value of x at t = {tf}: {x_final}\")"
   ]
  },
  {
   "cell_type": "code",
   "execution_count": null,
   "id": "78adecab",
   "metadata": {},
   "outputs": [],
   "source": []
  }
 ],
 "metadata": {
  "kernelspec": {
   "display_name": "Python 3 (ipykernel)",
   "language": "python",
   "name": "python3"
  },
  "language_info": {
   "codemirror_mode": {
    "name": "ipython",
    "version": 3
   },
   "file_extension": ".py",
   "mimetype": "text/x-python",
   "name": "python",
   "nbconvert_exporter": "python",
   "pygments_lexer": "ipython3",
   "version": "3.9.7"
  }
 },
 "nbformat": 4,
 "nbformat_minor": 5
}
