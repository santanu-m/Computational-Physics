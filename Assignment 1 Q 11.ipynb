{
 "cells": [
  {
   "cell_type": "code",
   "execution_count": 1,
   "id": "f443b33c",
   "metadata": {},
   "outputs": [],
   "source": [
    "import numpy as np\n",
    "import matplotlib.pyplot as plt"
   ]
  },
  {
   "cell_type": "code",
   "execution_count": 6,
   "id": "61b34281",
   "metadata": {},
   "outputs": [
    {
     "name": "stdout",
     "output_type": "stream",
     "text": [
      "[ 0.03508772 -0.23684211  0.65789474]\n"
     ]
    }
   ],
   "source": [
    "S1 = np.array([\n",
    "    [3, -1, 1],\n",
    "    [3, 6, 2],\n",
    "    [3, 3, 7]\n",
    "])\n",
    "b1 = np.array([1, 0, 4])\n",
    "\n",
    "x1 = np.linalg.solve(S1, b1)\n",
    "print(x1)"
   ]
  },
  {
   "cell_type": "code",
   "execution_count": 9,
   "id": "5591f41d",
   "metadata": {},
   "outputs": [
    {
     "name": "stdout",
     "output_type": "stream",
     "text": [
      "[0.99578947 0.95789474 0.79157895]\n"
     ]
    }
   ],
   "source": [
    "S2 = np.array([\n",
    "    [10, -1, 0],\n",
    "    [-1, 10, -2],\n",
    "    [0, -2, 10]\n",
    "])\n",
    "b2 = np.array([9,7,6])\n",
    "\n",
    "x2 = np.linalg.solve(S2, b2)\n",
    "print(x2)"
   ]
  },
  {
   "cell_type": "code",
   "execution_count": 10,
   "id": "3ea824db",
   "metadata": {},
   "outputs": [
    {
     "name": "stdout",
     "output_type": "stream",
     "text": [
      "[-0.79764706  2.79529412 -0.25882353 -2.25176471]\n"
     ]
    }
   ],
   "source": [
    "S3 = np.array([\n",
    "    [10, 5, 0, 0],\n",
    "    [5, 10, -4,0],\n",
    "    [0,-4, 8, -1],\n",
    "    [0,0,-1,5]\n",
    "])\n",
    "b3 = np.array([6, 25, -11,-11])\n",
    "\n",
    "x3 = np.linalg.solve(S3, b3)\n",
    "print(x3)"
   ]
  },
  {
   "cell_type": "code",
   "execution_count": 12,
   "id": "135df6d8",
   "metadata": {},
   "outputs": [
    {
     "name": "stdout",
     "output_type": "stream",
     "text": [
      "[ 0.78663239 -1.00257069  1.86632391  1.9125964   1.98971722]\n"
     ]
    }
   ],
   "source": [
    "S4 = np.array([\n",
    "    [4, 1, 1, 0,1],\n",
    "    [-1,-3,1,1,0],\n",
    "    [2,1,5,-1,-1],\n",
    "    [-1,-1,-1,4,0],\n",
    "    [0,2,-1,1,4]\n",
    "])\n",
    "b4 = np.array([6,6,6,6,6])\n",
    "\n",
    "x4 = np.linalg.solve(S4, b4)\n",
    "print(x4)"
   ]
  },
  {
   "cell_type": "code",
   "execution_count": null,
   "id": "84f92160",
   "metadata": {},
   "outputs": [],
   "source": []
  }
 ],
 "metadata": {
  "kernelspec": {
   "display_name": "Python 3 (ipykernel)",
   "language": "python",
   "name": "python3"
  },
  "language_info": {
   "codemirror_mode": {
    "name": "ipython",
    "version": 3
   },
   "file_extension": ".py",
   "mimetype": "text/x-python",
   "name": "python",
   "nbconvert_exporter": "python",
   "pygments_lexer": "ipython3",
   "version": "3.9.7"
  }
 },
 "nbformat": 4,
 "nbformat_minor": 5
}
