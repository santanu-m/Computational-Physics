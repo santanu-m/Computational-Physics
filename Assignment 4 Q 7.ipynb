{
 "cells": [
  {
   "cell_type": "code",
   "execution_count": 5,
   "id": "5970ff3e",
   "metadata": {},
   "outputs": [
    {
     "name": "stdout",
     "output_type": "stream",
     "text": [
      "Run 1: Chi-square = 29.491666666666667, p-value = 0.0010368888967215715, Conclusion: not sufficiently random\n",
      "Run 2: Chi-square = 1.1416666666666666, p-value = 0.999685063315782, Conclusion: sufficiently random\n"
     ]
    }
   ],
   "source": [
    "import scipy.stats as stats\n",
    "\n",
    "# Observed counts for each run\n",
    "observed_run1 = [4, 10, 10, 13, 20, 18, 18, 11, 13, 14, 13]\n",
    "observed_run2 = [3, 7, 11, 15, 19, 24, 21, 17, 13, 9, 5]\n",
    "\n",
    "# Total observations\n",
    "total_obs1 = sum(observed_run1)\n",
    "total_obs2 = sum(observed_run2)\n",
    "\n",
    "# Expected probabilities and counts\n",
    "expected_probs = [1/36, 2/36, 3/36, 4/36, 5/36, 6/36, 5/36, 4/36, 3/36, 2/36, 1/36]\n",
    "expected_run1 = [p * total_obs1 for p in expected_probs]\n",
    "expected_run2 = [p * total_obs2 for p in expected_probs]\n",
    "\n",
    "# Chi-square test\n",
    "chi2_run1, p_value_run1 = stats.chisquare(f_obs=observed_run1, f_exp=expected_run1)\n",
    "chi2_run2, p_value_run2 = stats.chisquare(f_obs=observed_run2, f_exp=expected_run2)\n",
    "\n",
    "# Degrees of freedom and critical value\n",
    "df = len(observed_run1) - 1\n",
    "critical_value = stats.chi2.ppf(0.95, df)\n",
    "\n",
    "# Conclusion\n",
    "def conclusion(chi2, critical_value):\n",
    "    if chi2 < critical_value:\n",
    "        return \"sufficiently random\"\n",
    "    elif chi2 < critical_value * 1.1:\n",
    "        return \"almost suspect\"\n",
    "    elif chi2 < critical_value * 1.5:\n",
    "        return \"suspect\"\n",
    "    else:\n",
    "        return \"not sufficiently random\"\n",
    "\n",
    "print(f\"Run 1: Chi-square = {chi2_run1}, p-value = {p_value_run1}, Conclusion: {conclusion(chi2_run1, critical_value)}\")\n",
    "print(f\"Run 2: Chi-square = {chi2_run2}, p-value = {p_value_run2}, Conclusion: {conclusion(chi2_run2, critical_value)}\")"
   ]
  },
  {
   "cell_type": "code",
   "execution_count": null,
   "id": "e6ed5db0",
   "metadata": {},
   "outputs": [],
   "source": []
  }
 ],
 "metadata": {
  "kernelspec": {
   "display_name": "Python 3 (ipykernel)",
   "language": "python",
   "name": "python3"
  },
  "language_info": {
   "codemirror_mode": {
    "name": "ipython",
    "version": 3
   },
   "file_extension": ".py",
   "mimetype": "text/x-python",
   "name": "python",
   "nbconvert_exporter": "python",
   "pygments_lexer": "ipython3",
   "version": "3.9.7"
  }
 },
 "nbformat": 4,
 "nbformat_minor": 5
}
