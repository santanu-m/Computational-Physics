{
 "cells": [
  {
   "cell_type": "code",
   "execution_count": 2,
   "id": "050719bc",
   "metadata": {},
   "outputs": [],
   "source": [
    "import numpy as np\n",
    "\n",
    "\n",
    "S4 = np.array([\n",
    "    [4, 1, 1, 0,1],\n",
    "    [-1,-3,1,1,0],\n",
    "    [2,1,5,-1,-1],\n",
    "    [-1,-1,-1,4,0],\n",
    "    [0,2,-1,1,4]\n",
    "])\n",
    "b4 = np.array([6,6,6,6,6])\n",
    "S3 = np.array([\n",
    "    [10, 5, 0, 0],\n",
    "    [5, 10, -4,0],\n",
    "    [0,-4, 8, -1],\n",
    "    [0,0,-1,5]\n",
    "])\n",
    "b3 = np.array([6, 25, -11,-11])\n",
    "S2 = np.array([\n",
    "    [10, -1, 0],\n",
    "    [-1, 10, -2],\n",
    "    [0, -2, 10]\n",
    "])\n",
    "b2 = np.array([9,7,6])\n",
    "S1 = np.array([\n",
    "    [3, -1, 1],\n",
    "    [3, 6, 2],\n",
    "    [3, 3, 7]\n",
    "])\n",
    "b1 = np.array([1, 0, 4])"
   ]
  },
  {
   "cell_type": "code",
   "execution_count": 12,
   "id": "21b6e713",
   "metadata": {},
   "outputs": [
    {
     "name": "stdout",
     "output_type": "stream",
     "text": [
      "Iteration 1: Relative Change (l_infinity norm) = 1.0\n",
      "Iteration 2: Relative Change (l_infinity norm) = 0.35897435897435903\n",
      "Iteration 3: Relative Change (l_infinity norm) = 0.08974358974358972\n",
      "Iteration 4: Relative Change (l_infinity norm) = 0.020368387822888395\n",
      "Iteration 5: Relative Change (l_infinity norm) = 0.00518356278681684\n",
      "Iteration 6: Relative Change (l_infinity norm) = 0.0012134166482402789\n",
      "Iteration 7: Relative Change (l_infinity norm) = 0.0003044129698475426\n",
      "Convergence achieved.\n",
      "Solution: [ 0.03515081 -0.23682839  0.65786182]\n"
     ]
    }
   ],
   "source": [
    "def gauss_seidel(A, b, tol=0.001, max_iterations=1000):\n",
    "    n = len(b)\n",
    "    x = np.zeros_like(b, dtype=np.double)\n",
    "    \n",
    "    for iteration in range(max_iterations):\n",
    "        x_new = np.copy(x)\n",
    "        \n",
    "        for i in range(n):\n",
    "            s1 = np.dot(A[i, :i], x_new[:i])\n",
    "            s2 = np.dot(A[i, i+1:], x[i+1:])\n",
    "            x_new[i] = (b[i] - s1 - s2) / A[i, i]\n",
    "        relative_change = np.linalg.norm(x_new - x, np.inf) / np.linalg.norm(x_new, np.inf)\n",
    "        print(f\"Iteration {iteration+1}: Relative Change (l_infinity norm) = {relative_change}\")\n",
    "        \n",
    "        if relative_change < tol:\n",
    "            print(\"Convergence achieved.\")\n",
    "            return x_new\n",
    "        x = x_new\n",
    "        \n",
    "    print(\"Maximum iterations reached.\")\n",
    "    return x\n"
   ]
  },
  {
   "cell_type": "code",
   "execution_count": 13,
   "id": "d045e465",
   "metadata": {},
   "outputs": [
    {
     "name": "stdout",
     "output_type": "stream",
     "text": [
      "Iteration 1: Relative Change (l_infinity norm) = 1.0\n",
      "Iteration 2: Relative Change (l_infinity norm) = 0.35897435897435903\n",
      "Iteration 3: Relative Change (l_infinity norm) = 0.08974358974358972\n",
      "Iteration 4: Relative Change (l_infinity norm) = 0.020368387822888395\n",
      "Iteration 5: Relative Change (l_infinity norm) = 0.00518356278681684\n",
      "Iteration 6: Relative Change (l_infinity norm) = 0.0012134166482402789\n",
      "Iteration 7: Relative Change (l_infinity norm) = 0.0003044129698475426\n",
      "Convergence achieved.\n"
     ]
    }
   ],
   "source": [
    "solution = gauss_seidel(S1, b1)"
   ]
  },
  {
   "cell_type": "code",
   "execution_count": 9,
   "id": "5e09d624",
   "metadata": {},
   "outputs": [
    {
     "name": "stdout",
     "output_type": "stream",
     "text": [
      "Iteration 1: Relative Change (l_infinity norm) = 1.0\n",
      "Iteration 2: Relative Change (l_infinity norm) = 0.16292134831460686\n",
      "Iteration 3: Relative Change (l_infinity norm) = 0.016030956329463924\n",
      "Iteration 4: Relative Change (l_infinity norm) = 0.0008009058521362158\n",
      "Convergence achieved.\n"
     ]
    }
   ],
   "source": [
    "solution = gauss_seidel(S2, b2)"
   ]
  },
  {
   "cell_type": "code",
   "execution_count": 10,
   "id": "1ee5a8bd",
   "metadata": {},
   "outputs": [
    {
     "name": "stdout",
     "output_type": "stream",
     "text": [
      "Iteration 1: Relative Change (l_infinity norm) = 1.0\n",
      "Iteration 2: Relative Change (l_infinity norm) = 0.41666666666666674\n",
      "Iteration 3: Relative Change (l_infinity norm) = 0.08072653884964681\n",
      "Iteration 4: Relative Change (l_infinity norm) = 0.015427106919803894\n",
      "Iteration 5: Relative Change (l_infinity norm) = 0.006787493949672436\n",
      "Iteration 6: Relative Change (l_infinity norm) = 0.003119238252493648\n",
      "Iteration 7: Relative Change (l_infinity norm) = 0.001437428998069088\n",
      "Iteration 8: Relative Change (l_infinity norm) = 0.0006629035840474728\n",
      "Convergence achieved.\n"
     ]
    }
   ],
   "source": [
    "solution = gauss_seidel(S3, b3)"
   ]
  },
  {
   "cell_type": "code",
   "execution_count": 11,
   "id": "07587a31",
   "metadata": {},
   "outputs": [
    {
     "name": "stdout",
     "output_type": "stream",
     "text": [
      "Iteration 1: Relative Change (l_infinity norm) = 1.0\n",
      "Iteration 2: Relative Change (l_infinity norm) = 0.43386527432627053\n",
      "Iteration 3: Relative Change (l_infinity norm) = 0.24189226261087124\n",
      "Iteration 4: Relative Change (l_infinity norm) = 0.0342736886637051\n",
      "Iteration 5: Relative Change (l_infinity norm) = 0.005661663429123672\n",
      "Iteration 6: Relative Change (l_infinity norm) = 0.0020788201974917147\n",
      "Iteration 7: Relative Change (l_infinity norm) = 0.00026131057653782687\n",
      "Convergence achieved.\n"
     ]
    }
   ],
   "source": [
    "solution = gauss_seidel(S4, b4)"
   ]
  },
  {
   "cell_type": "code",
   "execution_count": null,
   "id": "50486fd2",
   "metadata": {},
   "outputs": [],
   "source": []
  }
 ],
 "metadata": {
  "kernelspec": {
   "display_name": "Python 3 (ipykernel)",
   "language": "python",
   "name": "python3"
  },
  "language_info": {
   "codemirror_mode": {
    "name": "ipython",
    "version": 3
   },
   "file_extension": ".py",
   "mimetype": "text/x-python",
   "name": "python",
   "nbconvert_exporter": "python",
   "pygments_lexer": "ipython3",
   "version": "3.9.7"
  }
 },
 "nbformat": 4,
 "nbformat_minor": 5
}
