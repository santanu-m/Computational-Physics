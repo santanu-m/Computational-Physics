{
 "cells": [
  {
   "cell_type": "code",
   "execution_count": 12,
   "id": "2a748619",
   "metadata": {},
   "outputs": [],
   "source": [
    "import numpy as np\n",
    "import matplotlib.pyplot as plt\n",
    "\n",
    "\n",
    "S4 = np.array([\n",
    "    [4, 1, 1, 0,1],\n",
    "    [-1,-3,1,1,0],\n",
    "    [2,1,5,-1,-1],\n",
    "    [-1,-1,-1,4,0],\n",
    "    [0,2,-1,1,4]\n",
    "])\n",
    "b4 = np.array([6,6,6,6,6])\n",
    "S3 = np.array([\n",
    "    [10, 5, 0, 0],\n",
    "    [5, 10, -4,0],\n",
    "    [0,-4, 8, -1],\n",
    "    [0,0,-1,5]\n",
    "])\n",
    "b3 = np.array([6, 25, -11,-11])\n",
    "S2 = np.array([\n",
    "    [10, -1, 0],\n",
    "    [-1, 10, -2],\n",
    "    [0, -2, 10]\n",
    "])\n",
    "b2 = np.array([9,7,6])\n",
    "S1 = np.array([\n",
    "    [3, -1, 1],\n",
    "    [3, 6, 2],\n",
    "    [3, 3, 7]\n",
    "])\n",
    "b1 = np.array([1, 0, 4])"
   ]
  },
  {
   "cell_type": "code",
   "execution_count": 13,
   "id": "83370ec9",
   "metadata": {},
   "outputs": [],
   "source": [
    "import numpy as np\n",
    "\n",
    "def jacobi_method(A, b, tol=0.001, max_iter=100):\n",
    "    n = len(b)\n",
    "    x = np.zeros(n)  # Initial guess\n",
    "    x_new = np.zeros(n)\n",
    "    \n",
    "    for iteration in range(max_iter):\n",
    "        print(x,iteration)\n",
    "        for i in range(n):\n",
    "            sum_j = np.sum(A[i, :] * x) - A[i, i] * x[i]\n",
    "            x_new[i] = (b[i] - sum_j) / A[i, i]\n",
    "        if np.linalg.norm(x_new - x, np.inf) / np.linalg.norm(x_new, np.inf) < tol:\n",
    "            return x_new, iteration + 1 \n",
    "        \n",
    "        x = np.copy(x_new) \n",
    "    print(x,iteration)\n",
    "    return x, max_iter  "
   ]
  },
  {
   "cell_type": "code",
   "execution_count": 14,
   "id": "0bf85aa5",
   "metadata": {},
   "outputs": [
    {
     "name": "stdout",
     "output_type": "stream",
     "text": [
      "[0. 0. 0.] 0\n",
      "[0.33333333 0.         0.57142857] 1\n",
      "[ 0.14285714 -0.35714286  0.42857143] 2\n",
      "[ 0.07142857 -0.21428571  0.66326531] 3\n",
      "[ 0.04081633 -0.25680272  0.63265306] 4\n",
      "[ 0.03684807 -0.23129252  0.66399417] 5\n",
      "[ 0.03490444 -0.23975543  0.6547619 ] 6\n",
      "[ 0.03516089 -0.23570619  0.65922185] 7\n",
      "[ 0.03502399 -0.23732106  0.65737656] 8\n",
      "[ 0.03510079 -0.23663751  0.65812732] 9\n",
      "Solution: [ 0.03507839 -0.23692617  0.65780145]\n",
      "Iterations: 10\n"
     ]
    }
   ],
   "source": [
    "solution, iterations = jacobi_method(S1, b1)\n",
    "print(\"Solution:\", solution)\n",
    "print(\"Iterations:\", iterations)"
   ]
  },
  {
   "cell_type": "code",
   "execution_count": 15,
   "id": "a8d4f6b8",
   "metadata": {},
   "outputs": [
    {
     "name": "stdout",
     "output_type": "stream",
     "text": [
      "[0. 0. 0.] 0\n",
      "[0.9 0.7 0.6] 1\n",
      "[0.97 0.91 0.74] 2\n",
      "[0.991 0.945 0.782] 3\n",
      "[0.9945 0.9555 0.789 ] 4\n",
      "[0.99555 0.95725 0.7911 ] 5\n",
      "Solution: [0.995725 0.957775 0.79145 ]\n",
      "Iterations: 6\n"
     ]
    }
   ],
   "source": [
    "solution, iterations = jacobi_method(S2, b2)\n",
    "print(\"Solution:\", solution)\n",
    "print(\"Iterations:\", iterations)"
   ]
  },
  {
   "cell_type": "code",
   "execution_count": 16,
   "id": "bda01c01",
   "metadata": {},
   "outputs": [
    {
     "name": "stdout",
     "output_type": "stream",
     "text": [
      "[0. 0. 0. 0.] 0\n",
      "[ 0.6    2.5   -1.375 -2.2  ] 1\n",
      "[-0.65   1.65  -0.4   -2.475] 2\n",
      "[-0.225     2.665    -0.859375 -2.28    ] 3\n",
      "[-0.7325    2.26875  -0.3275   -2.371875] 4\n",
      "[-0.534375    2.73525    -0.53710938 -2.2655    ] 5\n",
      "[-0.767625    2.55234375 -0.2905625  -2.30742188] 6\n",
      "[-0.67617187  2.7675875  -0.38725586 -2.2581125 ] 7\n",
      "[-0.78379375  2.68318359 -0.27347031 -2.27745117] 8\n",
      "[-0.7415918   2.78250875 -0.3180896  -2.25469406] 9\n",
      "[-0.79125437  2.74356006 -0.26558238 -2.26361792] 10\n",
      "[-0.77178003  2.78939423 -0.28617221 -2.25311648] 11\n",
      "[-0.79469712  2.77142113 -0.26194244 -2.25723444] 12\n",
      "[-0.78571057  2.79257158 -0.27144374 -2.25238849] 13\n",
      "[-0.79628579  2.78427779 -0.26026277 -2.25428875] 14\n",
      "[-0.79213889  2.79403779 -0.2646472  -2.25205255] 15\n",
      "[-0.79701889  2.79021057 -0.25948768 -2.25292944] 16\n",
      "[-0.79510528  2.79471438 -0.2615109  -2.25189754] 17\n",
      "Solution: [-0.79735719  2.79294828 -0.25913    -2.25230218]\n",
      "Iterations: 18\n"
     ]
    }
   ],
   "source": [
    "solution, iterations = jacobi_method(S3, b3)\n",
    "print(\"Solution:\", solution)\n",
    "print(\"Iterations:\", iterations)"
   ]
  },
  {
   "cell_type": "code",
   "execution_count": 17,
   "id": "adcc8689",
   "metadata": {},
   "outputs": [
    {
     "name": "stdout",
     "output_type": "stream",
     "text": [
      "[0. 0. 0. 0. 0.] 0\n",
      "[ 1.5 -2.   1.2  1.5  1.5] 1\n",
      "[ 1.325 -1.6    1.6    1.675  2.425] 2\n",
      "[ 0.89375 -1.35     1.81     1.83125  2.28125] 3\n",
      "[ 0.8146875  -1.08416667  1.935       1.8384375   2.1696875 ] 4\n",
      "[ 0.74486979 -1.01375     1.89258333  1.91638021  2.06622396] 5\n",
      "[ 0.76373568 -0.97863542  1.90132292  1.90592578  2.00092578] 6\n",
      "[ 0.76909668 -0.98549566  1.87160313  1.92160579  1.98816699] 7\n",
      "[ 0.78143139 -0.99196259  1.87141502  1.91380104  1.98024716] 8\n",
      "[ 0.7850751  -0.99873844  1.8646296   1.91522095  1.98538479] 9\n",
      "[ 0.78718101 -1.00174151  1.8658388   1.91274157  1.98672138] 10\n",
      "[ 0.78729533 -1.00286688  1.86536849  1.91281957  1.98914507] 11\n",
      "Solution: [ 0.78708833 -1.00303576  1.86604817  1.91244923  1.98957067]\n",
      "Iterations: 12\n"
     ]
    }
   ],
   "source": [
    "solution, iterations = jacobi_method(S4, b4)\n",
    "print(\"Solution:\", solution)\n",
    "print(\"Iterations:\", iterations)"
   ]
  },
  {
   "cell_type": "code",
   "execution_count": null,
   "id": "e2bcb6cf",
   "metadata": {},
   "outputs": [],
   "source": []
  }
 ],
 "metadata": {
  "kernelspec": {
   "display_name": "Python 3 (ipykernel)",
   "language": "python",
   "name": "python3"
  },
  "language_info": {
   "codemirror_mode": {
    "name": "ipython",
    "version": 3
   },
   "file_extension": ".py",
   "mimetype": "text/x-python",
   "name": "python",
   "nbconvert_exporter": "python",
   "pygments_lexer": "ipython3",
   "version": "3.9.7"
  }
 },
 "nbformat": 4,
 "nbformat_minor": 5
}
