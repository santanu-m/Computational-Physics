{
 "cells": [
  {
   "cell_type": "code",
   "execution_count": 2,
   "id": "17cb96b1",
   "metadata": {},
   "outputs": [
    {
     "name": "stdout",
     "output_type": "stream",
     "text": [
      "t, Euler Approximation, Analytical, Absolute Error, Relative Error\n",
      "1.0, 1.000000, 1.000000, 0.000000, 0.000000\n",
      "1.1, 1.000000, 1.004282, 0.004282, 0.004263\n",
      "1.2, 1.008264, 1.014952, 0.006688, 0.006589\n",
      "1.3, 1.021689, 1.029814, 0.008124, 0.007889\n",
      "1.4, 1.038515, 1.047534, 0.009019, 0.008610\n",
      "1.5, 1.057668, 1.067262, 0.009594, 0.008990\n",
      "1.6, 1.078461, 1.088433, 0.009972, 0.009161\n",
      "1.7, 1.100432, 1.110655, 0.010223, 0.009204\n",
      "1.8, 1.123262, 1.133654, 0.010392, 0.009166\n",
      "1.9, 1.146724, 1.157228, 0.010505, 0.009078\n"
     ]
    }
   ],
   "source": [
    "import math\n",
    "\n",
    "def euler_method(f, y0, t0, tf, h):\n",
    "    t = t0\n",
    "    y = y0\n",
    "    results = []\n",
    "    while t <= tf:\n",
    "        results.append((t, y))\n",
    "        y += h * f(t, y)\n",
    "        t += h\n",
    "    return results\n",
    "\n",
    "def diff_eq(t, y):\n",
    "    if t == 0: return float('inf')  # Handling the division by zero error\n",
    "    return y / t - (y / t) ** 2\n",
    "\n",
    "def analytical_solution(t):\n",
    "    return t / (1 + math.log(t))\n",
    "\n",
    "y0 = 1\n",
    "t0 = 1\n",
    "tf = 2\n",
    "h = 0.1\n",
    "\n",
    "euler_results = euler_method(diff_eq, y0, t0, tf, h)\n",
    "\n",
    "print(\"t, Euler Approximation, Analytical, Absolute Error, Relative Error\")\n",
    "for (t, y_euler) in euler_results:\n",
    "    y_true = analytical_solution(t)\n",
    "    abs_error = abs(y_euler - y_true)\n",
    "    rel_error = abs_error / y_true\n",
    "    print(f\"{t:.1f}, {y_euler:.6f}, {y_true:.6f}, {abs_error:.6f}, {rel_error:.6f}\")\n"
   ]
  },
  {
   "cell_type": "code",
   "execution_count": null,
   "id": "e88da677",
   "metadata": {},
   "outputs": [],
   "source": []
  }
 ],
 "metadata": {
  "kernelspec": {
   "display_name": "Python 3 (ipykernel)",
   "language": "python",
   "name": "python3"
  },
  "language_info": {
   "codemirror_mode": {
    "name": "ipython",
    "version": 3
   },
   "file_extension": ".py",
   "mimetype": "text/x-python",
   "name": "python",
   "nbconvert_exporter": "python",
   "pygments_lexer": "ipython3",
   "version": "3.9.7"
  }
 },
 "nbformat": 4,
 "nbformat_minor": 5
}
