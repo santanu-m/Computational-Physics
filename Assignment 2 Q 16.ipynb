{
 "cells": [
  {
   "cell_type": "code",
   "execution_count": 2,
   "id": "c8970514",
   "metadata": {},
   "outputs": [
    {
     "ename": "SyntaxError",
     "evalue": "invalid syntax (Temp/ipykernel_14380/3708586711.py, line 4)",
     "output_type": "error",
     "traceback": [
      "\u001b[1;36m  File \u001b[1;32m\"C:\\Users\\91906\\AppData\\Local\\Temp/ipykernel_14380/3708586711.py\"\u001b[1;36m, line \u001b[1;32m4\u001b[0m\n\u001b[1;33m    double f(double t, double y) {\u001b[0m\n\u001b[1;37m           ^\u001b[0m\n\u001b[1;31mSyntaxError\u001b[0m\u001b[1;31m:\u001b[0m invalid syntax\n"
     ]
    }
   ],
   "source": [
    "#include <stdio.h>\n",
    "#include <math.h>\n",
    "\n",
    "double f(double t, double y) {\n",
    "    return y - t * t + 1;\n",
    "}\n",
    "\n",
    "double exact_solution(double t) {\n",
    "    return (t + 1) * (t + 1) - 0.5 * exp(t);\n",
    "}\n",
    "\n",
    "int main() {\n",
    "    double y = 0.5, t = 0.0, h = 0.2;\n",
    "    int n = 10; // Number of steps to reach t = 2 with h = 0.2\n",
    "    double y_exact, error;\n",
    "\n",
    "    printf(\"t\\t\\tEuler's y\\tExact y\\t\\tError\\n\");\n",
    "    printf(\"------------------------------------------------------------\\n\");\n",
    "\n",
    "    for (int i = 0; i <= n; i++) {\n",
    "        y_exact = exact_solution(t);\n",
    "        error = fabs(y - y_exact);\n",
    "        printf(\"%.1f\\t\\t%.6f\\t\\t%.6f\\t\\t%.6f\\n\", t, y, y_exact, error);\n",
    "\n",
    "        // Update for next iteration\n",
    "        y += h * f(t, y);\n",
    "        t += h;\n",
    "    }\n",
    "\n",
    "    return 0;\n",
    "}"
   ]
  },
  {
   "cell_type": "code",
   "execution_count": null,
   "id": "6585f19e",
   "metadata": {},
   "outputs": [],
   "source": []
  }
 ],
 "metadata": {
  "kernelspec": {
   "display_name": "Python 3 (ipykernel)",
   "language": "python",
   "name": "python3"
  },
  "language_info": {
   "codemirror_mode": {
    "name": "ipython",
    "version": 3
   },
   "file_extension": ".py",
   "mimetype": "text/x-python",
   "name": "python",
   "nbconvert_exporter": "python",
   "pygments_lexer": "ipython3",
   "version": "3.9.7"
  }
 },
 "nbformat": 4,
 "nbformat_minor": 5
}
